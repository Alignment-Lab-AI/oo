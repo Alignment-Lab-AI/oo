{
 "cells": [
  {
   "attachments": {},
   "cell_type": "markdown",
   "metadata": {},
   "source": [
    "Generates FLAN-5M data mixture from FLAN-v2 collection"
   ]
  },
  {
   "cell_type": "code",
   "execution_count": 24,
   "metadata": {},
   "outputs": [],
   "source": [
    "import random\n",
    "\n",
    "# System Messages\n",
    "# Page 9, Table 2\n",
    "SM = {\n",
    "    1: \"\",\n",
    "    2: \"You are an AI assistant. Provide a detailed answer so user don’t need to search outside to understand the answer.\",\n",
    "    3: \"You are an AI assistant. You will be given a task. You must generate a detailed and long answer.\",\n",
    "    4: \"You are a helpful assistant, who always provide explanation. Think like you are answering to a five year old.\",\n",
    "    5: \"You are an AI assistant that follows instruction extremely well. Help as much as you can.\",\n",
    "    6: \"You are an AI assistant that helps people find information. Provide a detailed answer so user don’t need to search outside to understand the answer.\",\n",
    "    7: \"You are an AI assistant. User will you give you a task. Your goal is to complete the task as faithfully as you can. While performing the task think step-by-step and justify your steps.\",\n",
    "    8: \"You should describe the task and explain your answer. While answering a multiple choice question, first output the correct answer(s). Then explain why other answers are wrong. Think like you are answering to a five year old.\",\n",
    "    9: \"Explain how you used the definition to come up with the answer.\",\n",
    "    10: \"You are an AI assistant. You should describe the task and explain your answer. While answering a multiple choice question, first output the correct answer(s). Then explain why other answers are wrong. You might need to use additional knowledge to answer the question.\",\n",
    "    11: \"You are an AI assistant that helps people find information. User will you give you a question. Your task is to answer as faithfully as you can. While answering think step-bystep and justify your answer.\",\n",
    "    12: \"User will you give you a task with some instruction. Your job is follow the instructions as faithfully as you can. While answering think step-by-step and justify your answer.\",\n",
    "    13: \"You are a teacher. Given a task, you explain in simple steps what the task is asking, any guidelines it provides and how to use those guidelines to find the answer.\",\n",
    "    14: \"You are an AI assistant, who knows every language and how to translate one language to another. Given a task, you explain in simple steps what the task is asking, any guidelines that it provides. You solve the task and show how you used the guidelines to solve the task.\",\n",
    "    15: \"Given a definition of a task and a sample input, break the definition into small parts.\\nEach of those parts will have some instruction. Explain their meaning by showing an example that meets the criteria in the instruction. Use the following format:\\nPart  # : a key part of the definition.\\nUsage: Sample response that meets the criteria from the key part. Explain why you think it meets the criteria.\",\n",
    "    16: \"You are an AI assistant that helps people find information.\",\n",
    "}\n",
    "\n",
    "# System Message Pickers \n",
    "# Figure 6 page 10\n",
    "sm_cot = lambda: SM[random.choice([6, 11, 16])]\n",
    "sm_niv2 = lambda: SM[random.choice([1, 2, 5, 7, 9, 12, 13, 14, 15])]\n",
    "sm_t0 = lambda: SM[random.choice([1, 2, 3, 5, 7])]\n",
    "sm_flan2021 = lambda multiple_choice: SM[random.choice([8, 10])] if multiple_choice else SM[random.choice([3, 4, 7])]\n"
   ]
  },
  {
   "cell_type": "code",
   "execution_count": 36,
   "metadata": {},
   "outputs": [],
   "source": [
    "import os\n",
    "import json\n",
    "import pandas as pd\n",
    "from IPython.display import display\n",
    "import datasets\n",
    "import tqdm\n",
    "from check_if_multiple_choice import check_if_multiple_choice\n",
    "\n",
    "cot_total = 150000\n",
    "niv_total = 440000\n",
    "flan_total = 2500000\n",
    "t0_total = 2000000\n",
    "\n",
    "output_dir = \"data\"\n",
    "os.makedirs(output_dir, exist_ok=True)"
   ]
  },
  {
   "cell_type": "code",
   "execution_count": 38,
   "metadata": {},
   "outputs": [
    {
     "name": "stderr",
     "output_type": "stream",
     "text": [
      "183848it [01:01, 2970.97it/s]                            \n"
     ]
    }
   ],
   "source": [
    "cot = iter(datasets.load_dataset(\n",
    "    \"conceptofmind/cot_submix_original\", split=\"train\", streaming=True))\n",
    "\n",
    "def process_cot(cot):\n",
    "    f = open(\"data/cot.jsonl\", \"w\")\n",
    "    stream = tqdm.tqdm(cot, total=cot_total)\n",
    "    counter = 0    \n",
    "    for i, data in enumerate(stream):\n",
    "        if data['template_type'] != 'zs_opt':\n",
    "            continue\n",
    "        question = data['inputs']\n",
    "        system_prompt = sm_cot()\n",
    "        json.dump({\"id\": f\"cot.{i}\", \"messages\": [{\"role\": \"system\", \"content\": system_prompt}, {\"role\": \"user\", \"content\": question}]}, f) \n",
    "        f.write(\"\\n\")       \n",
    "        counter += 1\n",
    "        stream.update(counter)\n",
    "        if counter >= cot_total:\n",
    "            break\n",
    "    f.close()\n",
    "    \n",
    "process_cot(cot)"
   ]
  },
  {
   "cell_type": "code",
   "execution_count": null,
   "metadata": {},
   "outputs": [],
   "source": [
    "niv = iter(datasets.load_dataset(\n",
    "    \"conceptofmind/niv2_submix_original\", split=\"train\", streaming=True))\n",
    "\n",
    "def process_niv(niv) :\n",
    "  return\n",
    "\n",
    "process_niv(niv)"
   ]
  },
  {
   "cell_type": "code",
   "execution_count": null,
   "metadata": {},
   "outputs": [],
   "source": [
    "flan = iter(datasets.load_dataset(\n",
    "    \"conceptofmind/flan2021_submix_original\", split=\"train\", streaming=True))\n",
    "\n",
    "def process_flan(flan) :\n",
    "  return\n",
    "\n",
    "process_flan(flan)"
   ]
  },
  {
   "cell_type": "code",
   "execution_count": null,
   "metadata": {},
   "outputs": [],
   "source": [
    "t0 = iter(datasets.load_dataset(\n",
    "    \"conceptofmind/t0_submix_original\", split=\"train\", streaming=True))\n",
    "\n",
    "def process_t0(t0) :\n",
    "  return\n",
    "\n",
    "process_t0(t0)"
   ]
  }
 ],
 "metadata": {
  "kernelspec": {
   "display_name": "base",
   "language": "python",
   "name": "python3"
  },
  "language_info": {
   "codemirror_mode": {
    "name": "ipython",
    "version": 3
   },
   "file_extension": ".py",
   "mimetype": "text/x-python",
   "name": "python",
   "nbconvert_exporter": "python",
   "pygments_lexer": "ipython3",
   "version": "3.10.11"
  },
  "orig_nbformat": 4,
  "vscode": {
   "interpreter": {
    "hash": "281f1c8753b18c9d2968280632816a025c721e632f5f355c2f6dfab2614fba3c"
   }
  }
 },
 "nbformat": 4,
 "nbformat_minor": 2
}
